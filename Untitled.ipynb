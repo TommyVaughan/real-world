{
 "cells": [
  {
   "cell_type": "markdown",
   "metadata": {},
   "source": [
    "# Synthesising a Real World Phenomenon"
   ]
  },
  {
   "cell_type": "markdown",
   "metadata": {},
   "source": [
    "In this project I plan to:\n",
    "\n",
    "1) Choose a real world phenonenon that can be measured and for which I can collect at least 100 data points across at least four variables.\n",
    "\n",
    "2) Investigate the types of variables involved, their likely distributions, and their relationships with each other.\n",
    "\n",
    "3) Synthesise a data set as closely matching their properties as possible."
   ]
  },
  {
   "cell_type": "markdown",
   "metadata": {},
   "source": [
    "## The Python Libraries to be used\n",
    "\n",
    "Numpy is the fundamental package for scientific computing with Python. Besides it's scientific uses it can also be used as an efficient multi-dimensional container of generic data.\n",
    "\n",
    "Pandas is a package providing fast, flexible and expressive data structures designed to make working with data both easy and initutive.\n",
    "\n",
    "Matplotlib is a Python 2D plotting library which produces publication quality figures in a variety of hardcopy formats and interactive environments across platforms.\n",
    "\n",
    "Seaborn is a Python data visualizition library based on Matplotlib. It provides a high-level interface for drawing attractive and informative statistical graphics."
   ]
  },
  {
   "cell_type": "code",
   "execution_count": 55,
   "metadata": {},
   "outputs": [],
   "source": [
    "# Upload the Python packages I plan on using\n",
    "\n",
    "import pandas as pd\n",
    "from pandas import DataFrame\n",
    "import seaborn as sns\n",
    "import numpy as np\n",
    "import matplotlib.pyplot as plt\n",
    "import random\n",
    "%matplotlib inline "
   ]
  },
  {
   "cell_type": "markdown",
   "metadata": {},
   "source": [
    "## Data for this project\n",
    "\n",
    "I have decided to look at a list of 100 footballers and how variables such as the number of hours they train and their age affects their performance. For measuring ther performance I will look at varibles like number of kilometres covered in a match, tackles made and goals scored. I will also factor in their position on the pitch as this will further impact the other variables.\n",
    "\n",
    "To start I am creating a dataframe with 100 footballers including their ages being randomly selected between 18 and 35 years of age."
   ]
  },
  {
   "cell_type": "code",
   "execution_count": 56,
   "metadata": {},
   "outputs": [
    {
     "data": {
      "text/html": [
       "<div>\n",
       "<style scoped>\n",
       "    .dataframe tbody tr th:only-of-type {\n",
       "        vertical-align: middle;\n",
       "    }\n",
       "\n",
       "    .dataframe tbody tr th {\n",
       "        vertical-align: top;\n",
       "    }\n",
       "\n",
       "    .dataframe thead th {\n",
       "        text-align: right;\n",
       "    }\n",
       "</style>\n",
       "<table border=\"1\" class=\"dataframe\">\n",
       "  <thead>\n",
       "    <tr style=\"text-align: right;\">\n",
       "      <th></th>\n",
       "      <th>Age</th>\n",
       "    </tr>\n",
       "    <tr>\n",
       "      <th>Footballer</th>\n",
       "      <th></th>\n",
       "    </tr>\n",
       "  </thead>\n",
       "  <tbody>\n",
       "    <tr>\n",
       "      <th>1</th>\n",
       "      <td>26</td>\n",
       "    </tr>\n",
       "    <tr>\n",
       "      <th>2</th>\n",
       "      <td>21</td>\n",
       "    </tr>\n",
       "    <tr>\n",
       "      <th>3</th>\n",
       "      <td>25</td>\n",
       "    </tr>\n",
       "    <tr>\n",
       "      <th>4</th>\n",
       "      <td>33</td>\n",
       "    </tr>\n",
       "    <tr>\n",
       "      <th>5</th>\n",
       "      <td>34</td>\n",
       "    </tr>\n",
       "    <tr>\n",
       "      <th>6</th>\n",
       "      <td>28</td>\n",
       "    </tr>\n",
       "    <tr>\n",
       "      <th>7</th>\n",
       "      <td>20</td>\n",
       "    </tr>\n",
       "    <tr>\n",
       "      <th>8</th>\n",
       "      <td>20</td>\n",
       "    </tr>\n",
       "    <tr>\n",
       "      <th>9</th>\n",
       "      <td>20</td>\n",
       "    </tr>\n",
       "    <tr>\n",
       "      <th>10</th>\n",
       "      <td>32</td>\n",
       "    </tr>\n",
       "  </tbody>\n",
       "</table>\n",
       "</div>"
      ],
      "text/plain": [
       "            Age\n",
       "Footballer     \n",
       "1            26\n",
       "2            21\n",
       "3            25\n",
       "4            33\n",
       "5            34\n",
       "6            28\n",
       "7            20\n",
       "8            20\n",
       "9            20\n",
       "10           32"
      ]
     },
     "execution_count": 56,
     "metadata": {},
     "output_type": "execute_result"
    }
   ],
   "source": [
    "np.random.seed(100)     # seeding the data to get the same data for this project\n",
    "df = pd.DataFrame({\"Footballer\":np.arange(1,101,1), \"Age\": np.random.randint(18,36,100)}).set_index(\"Footballer\")\n",
    "df.head(10)"
   ]
  },
  {
   "cell_type": "code",
   "execution_count": 57,
   "metadata": {},
   "outputs": [],
   "source": [
    "allowed_position =(['Goalkeeper', 'Defender', 'Midfielder', \"Striker\",])\n",
    "my_position = [np.random.choice(allowed_position) for i in range(100)]     "
   ]
  },
  {
   "cell_type": "markdown",
   "metadata": {},
   "source": [
    "In football the lineout is 1 goalkeeper, and usually 4 defenders, 4 midfielders and 2 strikers so I will weight the data for the positions accordingly."
   ]
  },
  {
   "cell_type": "code",
   "execution_count": 134,
   "metadata": {},
   "outputs": [
    {
     "name": "stdout",
     "output_type": "stream",
     "text": [
      "['Midfielder' 'Defender' 'Defender' 'Striker' 'Goalkeeper' 'Defender'\n",
      " 'Midfielder' 'Striker' 'Defender' 'Midfielder' 'Striker' 'Defender'\n",
      " 'Defender' 'Defender' 'Defender' 'Striker' 'Striker' 'Defender' 'Striker'\n",
      " 'Defender' 'Defender' 'Striker' 'Striker' 'Defender' 'Defender'\n",
      " 'Defender' 'Goalkeeper' 'Defender' 'Midfielder' 'Goalkeeper' 'Midfielder'\n",
      " 'Midfielder' 'Defender' 'Defender' 'Goalkeeper' 'Striker' 'Striker'\n",
      " 'Goalkeeper' 'Striker' 'Midfielder' 'Midfielder' 'Midfielder'\n",
      " 'Midfielder' 'Goalkeeper' 'Defender' 'Midfielder' 'Midfielder' 'Defender'\n",
      " 'Defender' 'Striker' 'Striker' 'Striker' 'Defender' 'Midfielder'\n",
      " 'Defender' 'Defender' 'Defender' 'Defender' 'Goalkeeper' 'Midfielder'\n",
      " 'Defender' 'Midfielder' 'Midfielder' 'Defender' 'Striker' 'Striker'\n",
      " 'Midfielder' 'Defender' 'Defender' 'Defender' 'Defender' 'Defender'\n",
      " 'Defender' 'Striker' 'Striker' 'Midfielder' 'Midfielder' 'Defender'\n",
      " 'Goalkeeper' 'Midfielder' 'Midfielder' 'Goalkeeper' 'Midfielder'\n",
      " 'Striker' 'Defender' 'Defender' 'Striker' 'Midfielder' 'Defender'\n",
      " 'Midfielder' 'Midfielder' 'Defender' 'Defender' 'Defender' 'Midfielder'\n",
      " 'Midfielder' 'Defender' 'Midfielder' 'Defender' 'Midfielder']\n"
     ]
    }
   ],
   "source": [
    "np.random.seed(100)    \n",
    "position = np.random.choice(allowed_position, 100, p=[0.1, 0.35, 0.35, 0.2]) \n",
    "print(position)"
   ]
  },
  {
   "cell_type": "markdown",
   "metadata": {},
   "source": [
    "Now I would like to expand the dataframe by adding a column of the weighted positions."
   ]
  },
  {
   "cell_type": "code",
   "execution_count": 59,
   "metadata": {},
   "outputs": [
    {
     "data": {
      "text/html": [
       "<div>\n",
       "<style scoped>\n",
       "    .dataframe tbody tr th:only-of-type {\n",
       "        vertical-align: middle;\n",
       "    }\n",
       "\n",
       "    .dataframe tbody tr th {\n",
       "        vertical-align: top;\n",
       "    }\n",
       "\n",
       "    .dataframe thead th {\n",
       "        text-align: right;\n",
       "    }\n",
       "</style>\n",
       "<table border=\"1\" class=\"dataframe\">\n",
       "  <thead>\n",
       "    <tr style=\"text-align: right;\">\n",
       "      <th></th>\n",
       "      <th>Age</th>\n",
       "      <th>Position</th>\n",
       "    </tr>\n",
       "    <tr>\n",
       "      <th>Footballer</th>\n",
       "      <th></th>\n",
       "      <th></th>\n",
       "    </tr>\n",
       "  </thead>\n",
       "  <tbody>\n",
       "    <tr>\n",
       "      <th>1</th>\n",
       "      <td>26</td>\n",
       "      <td>Midfielder</td>\n",
       "    </tr>\n",
       "    <tr>\n",
       "      <th>2</th>\n",
       "      <td>21</td>\n",
       "      <td>Defender</td>\n",
       "    </tr>\n",
       "    <tr>\n",
       "      <th>3</th>\n",
       "      <td>25</td>\n",
       "      <td>Defender</td>\n",
       "    </tr>\n",
       "    <tr>\n",
       "      <th>4</th>\n",
       "      <td>33</td>\n",
       "      <td>Striker</td>\n",
       "    </tr>\n",
       "    <tr>\n",
       "      <th>5</th>\n",
       "      <td>34</td>\n",
       "      <td>Goalkeeper</td>\n",
       "    </tr>\n",
       "    <tr>\n",
       "      <th>6</th>\n",
       "      <td>28</td>\n",
       "      <td>Defender</td>\n",
       "    </tr>\n",
       "    <tr>\n",
       "      <th>7</th>\n",
       "      <td>20</td>\n",
       "      <td>Midfielder</td>\n",
       "    </tr>\n",
       "    <tr>\n",
       "      <th>8</th>\n",
       "      <td>20</td>\n",
       "      <td>Striker</td>\n",
       "    </tr>\n",
       "    <tr>\n",
       "      <th>9</th>\n",
       "      <td>20</td>\n",
       "      <td>Defender</td>\n",
       "    </tr>\n",
       "    <tr>\n",
       "      <th>10</th>\n",
       "      <td>32</td>\n",
       "      <td>Midfielder</td>\n",
       "    </tr>\n",
       "  </tbody>\n",
       "</table>\n",
       "</div>"
      ],
      "text/plain": [
       "            Age    Position\n",
       "Footballer                 \n",
       "1            26  Midfielder\n",
       "2            21    Defender\n",
       "3            25    Defender\n",
       "4            33     Striker\n",
       "5            34  Goalkeeper\n",
       "6            28    Defender\n",
       "7            20  Midfielder\n",
       "8            20     Striker\n",
       "9            20    Defender\n",
       "10           32  Midfielder"
      ]
     },
     "execution_count": 59,
     "metadata": {},
     "output_type": "execute_result"
    }
   ],
   "source": [
    "np.random.seed(100)\n",
    "df[\"Position\"] = np.random.choice(allowed_position, 100, p=[0.1, 0.35, 0.35, 0.2]) \n",
    "df.head(10)"
   ]
  },
  {
   "cell_type": "markdown",
   "metadata": {},
   "source": [
    "Now I would like to add another column to the dataset where the numbers of hours each player trains is randomly selected between 4 and 10 hours per week."
   ]
  },
  {
   "cell_type": "code",
   "execution_count": 60,
   "metadata": {},
   "outputs": [
    {
     "name": "stdout",
     "output_type": "stream",
     "text": [
      "[ 4  4  7  4  6 10  8  6  9  6  6 10  6  5  4  4  8  7  8  6  4  7  5  9\n",
      " 10  6  7  8  8  5  9  9  7  8  8  7  7  7  5  5  9 10  7  4  6  5  5 10\n",
      "  7  6  9  7  4 10  5 10  4  9 10  8  6  4  4  6  9  6  5  4  9  6 10  5\n",
      "  9  8  6  4  7  7  7  9 10  4  9  5  8  6  7 10  7  8  6 10  8  7  5  4\n",
      "  8  7  8  9]\n"
     ]
    }
   ],
   "source": [
    "np.random.seed(100)\n",
    "hours = np.random.randint(4,11,100)\n",
    "print(hours)"
   ]
  },
  {
   "cell_type": "code",
   "execution_count": 124,
   "metadata": {},
   "outputs": [
    {
     "data": {
      "text/html": [
       "<div>\n",
       "<style scoped>\n",
       "    .dataframe tbody tr th:only-of-type {\n",
       "        vertical-align: middle;\n",
       "    }\n",
       "\n",
       "    .dataframe tbody tr th {\n",
       "        vertical-align: top;\n",
       "    }\n",
       "\n",
       "    .dataframe thead th {\n",
       "        text-align: right;\n",
       "    }\n",
       "</style>\n",
       "<table border=\"1\" class=\"dataframe\">\n",
       "  <thead>\n",
       "    <tr style=\"text-align: right;\">\n",
       "      <th></th>\n",
       "      <th>Age</th>\n",
       "      <th>Position</th>\n",
       "      <th>Hours_training</th>\n",
       "    </tr>\n",
       "    <tr>\n",
       "      <th>Footballer</th>\n",
       "      <th></th>\n",
       "      <th></th>\n",
       "      <th></th>\n",
       "    </tr>\n",
       "  </thead>\n",
       "  <tbody>\n",
       "    <tr>\n",
       "      <th>1</th>\n",
       "      <td>26</td>\n",
       "      <td>Midfielder</td>\n",
       "      <td>10</td>\n",
       "    </tr>\n",
       "    <tr>\n",
       "      <th>2</th>\n",
       "      <td>21</td>\n",
       "      <td>Defender</td>\n",
       "      <td>9</td>\n",
       "    </tr>\n",
       "    <tr>\n",
       "      <th>3</th>\n",
       "      <td>25</td>\n",
       "      <td>Defender</td>\n",
       "      <td>4</td>\n",
       "    </tr>\n",
       "    <tr>\n",
       "      <th>4</th>\n",
       "      <td>33</td>\n",
       "      <td>Striker</td>\n",
       "      <td>4</td>\n",
       "    </tr>\n",
       "    <tr>\n",
       "      <th>5</th>\n",
       "      <td>34</td>\n",
       "      <td>Goalkeeper</td>\n",
       "      <td>7</td>\n",
       "    </tr>\n",
       "    <tr>\n",
       "      <th>6</th>\n",
       "      <td>28</td>\n",
       "      <td>Defender</td>\n",
       "      <td>4</td>\n",
       "    </tr>\n",
       "    <tr>\n",
       "      <th>7</th>\n",
       "      <td>20</td>\n",
       "      <td>Midfielder</td>\n",
       "      <td>9</td>\n",
       "    </tr>\n",
       "    <tr>\n",
       "      <th>8</th>\n",
       "      <td>20</td>\n",
       "      <td>Striker</td>\n",
       "      <td>5</td>\n",
       "    </tr>\n",
       "    <tr>\n",
       "      <th>9</th>\n",
       "      <td>20</td>\n",
       "      <td>Defender</td>\n",
       "      <td>8</td>\n",
       "    </tr>\n",
       "    <tr>\n",
       "      <th>10</th>\n",
       "      <td>32</td>\n",
       "      <td>Midfielder</td>\n",
       "      <td>7</td>\n",
       "    </tr>\n",
       "  </tbody>\n",
       "</table>\n",
       "</div>"
      ],
      "text/plain": [
       "            Age    Position  Hours_training\n",
       "Footballer                                 \n",
       "1            26  Midfielder              10\n",
       "2            21    Defender               9\n",
       "3            25    Defender               4\n",
       "4            33     Striker               4\n",
       "5            34  Goalkeeper               7\n",
       "6            28    Defender               4\n",
       "7            20  Midfielder               9\n",
       "8            20     Striker               5\n",
       "9            20    Defender               8\n",
       "10           32  Midfielder               7"
      ]
     },
     "execution_count": 124,
     "metadata": {},
     "output_type": "execute_result"
    }
   ],
   "source": [
    "df[\"Hours_training\"] = np.random.randint(4,11,100)\n",
    "df.head(10)"
   ]
  },
  {
   "cell_type": "markdown",
   "metadata": {},
   "source": [
    "I would now like to have a look at the number of tackles each player makes in a game. From my research I have found:\n",
    "\n",
    "1) Goalkeepers as expected rarely make tackles as saves is the name of thier game but they do occassionally come from goal to make a quick slide outside the box 0.2 per game.\n",
    "\n",
    "2) Defenders bread and butter is tackling, it's how they earn their crust and no surprises that they tend to make more tackels than any other position at 5.5 per game.\n",
    "\n",
    "3) Midfielders are the engine of a team and wile the cover more ground than anybody, they don't put in as many tackels as their defensive counterparts 4.2 per game.\n",
    "\n",
    "4) Strikers are the poster boys of any team and they leave  the dirty business of tackeling to their team mates. 1.2 per game\n",
    "\n",
    "When adding this column to my data set I will weight the data accordingly knowing not all players in each position will put in the same number of tackles. Lets assume 1 of a difference either side of the averages mentioned."
   ]
  },
  {
   "cell_type": "markdown",
   "metadata": {},
   "source": [
    "Trying to tie the data that will be generated in column Tackles_made to the four different positions in the column Position as they are connected. In general a defender will make more tackles than than a striker in a match."
   ]
  },
  {
   "cell_type": "code",
   "execution_count": 186,
   "metadata": {},
   "outputs": [
    {
     "name": "stdout",
     "output_type": "stream",
     "text": [
      "            Age    Position  Hours_training  Tackles_made\n",
      "Footballer                                               \n",
      "5            34  Goalkeeper               7      8.980787\n",
      "27           25  Goalkeeper               7           NaN\n",
      "30           19  Goalkeeper               7           NaN\n",
      "35           27  Goalkeeper               8           NaN\n",
      "38           35  Goalkeeper               5           NaN\n",
      "44           30  Goalkeeper               4           NaN\n",
      "59           28  Goalkeeper               8           NaN\n",
      "79           24  Goalkeeper               7           NaN\n",
      "82           20  Goalkeeper               6           NaN\n"
     ]
    }
   ],
   "source": [
    "gkr = df[df.Position==\"Goalkeeper\"]   # Creating a dataframe for goalkeeper\n",
    "print (gkr)"
   ]
  },
  {
   "cell_type": "code",
   "execution_count": 188,
   "metadata": {},
   "outputs": [],
   "source": [
    "gkr = pd.DataFrame({\"Position\":np.random.uniform(0.1,0.3,9)})"
   ]
  },
  {
   "cell_type": "code",
   "execution_count": 193,
   "metadata": {},
   "outputs": [
    {
     "name": "stdout",
     "output_type": "stream",
     "text": [
      "   Position\n",
      "0  0.208681\n",
      "1  0.155674\n",
      "2  0.184904\n",
      "3  0.268955\n",
      "4  0.100944\n",
      "5  0.124314\n",
      "6  0.234150\n",
      "7  0.265171\n",
      "8  0.127341\n"
     ]
    }
   ],
   "source": [
    "np.random.seed(100)                   # Assigning weight to goalkeepers tackles \n",
    "gkr = pd.DataFrame({\"Position\":np.random.uniform(0.1,0.3,9)})\n",
    "print(gkr)"
   ]
  },
  {
   "cell_type": "code",
   "execution_count": 179,
   "metadata": {},
   "outputs": [
    {
     "name": "stdout",
     "output_type": "stream",
     "text": [
      "            Age    Position  Hours_training  Tackles_made\n",
      "Footballer                                               \n",
      "5            34  Goalkeeper               7      0.124314\n",
      "27           25  Goalkeeper               7           NaN\n",
      "30           19  Goalkeeper               7           NaN\n",
      "35           27  Goalkeeper               8           NaN\n",
      "38           35  Goalkeeper               5           NaN\n",
      "44           30  Goalkeeper               4           NaN\n",
      "59           28  Goalkeeper               8           NaN\n",
      "79           24  Goalkeeper               7           NaN\n",
      "82           20  Goalkeeper               6           NaN\n"
     ]
    },
    {
     "name": "stderr",
     "output_type": "stream",
     "text": [
      "C:\\Users\\I304302\\AppData\\Local\\Continuum\\anaconda3\\lib\\site-packages\\ipykernel_launcher.py:1: SettingWithCopyWarning: \n",
      "A value is trying to be set on a copy of a slice from a DataFrame.\n",
      "Try using .loc[row_indexer,col_indexer] = value instead\n",
      "\n",
      "See the caveats in the documentation: http://pandas.pydata.org/pandas-docs/stable/indexing.html#indexing-view-versus-copy\n",
      "  \"\"\"Entry point for launching an IPython kernel.\n"
     ]
    }
   ],
   "source": []
  },
  {
   "cell_type": "code",
   "execution_count": 149,
   "metadata": {},
   "outputs": [],
   "source": [
    "dfr = df[df.Position==\"Defender\"]     # Creating a dataframe for defender"
   ]
  },
  {
   "cell_type": "code",
   "execution_count": 152,
   "metadata": {},
   "outputs": [],
   "source": [
    "np.random.seed(100)                   # Assigning weight to defenders tackles \n",
    "dfr = pd.DataFrame({\"Position\":np.random.uniform(4.5,6.5,42)})"
   ]
  },
  {
   "cell_type": "code",
   "execution_count": 155,
   "metadata": {},
   "outputs": [],
   "source": [
    "mdr = df[df.Position==\"Midfielder\"]   # Creating a dataframe for midfielder"
   ]
  },
  {
   "cell_type": "code",
   "execution_count": 157,
   "metadata": {},
   "outputs": [],
   "source": [
    "np.random.seed(100)                   # Assigning weight to midfielder tackles \n",
    "mdr = pd.DataFrame({\"Position\":np.random.uniform(3.2,5.2,29)})"
   ]
  },
  {
   "cell_type": "code",
   "execution_count": 160,
   "metadata": {},
   "outputs": [],
   "source": [
    "stk = df[df.Position==\"Striker\"]      # Creating a dataframe for striker"
   ]
  },
  {
   "cell_type": "code",
   "execution_count": 162,
   "metadata": {},
   "outputs": [],
   "source": [
    "np.random.seed(100)                   # Assigning weight to striker tackles \n",
    "stk = pd.DataFrame({\"Position\":np.random.uniform(0.5,1.9,20)})"
   ]
  },
  {
   "cell_type": "code",
   "execution_count": 182,
   "metadata": {},
   "outputs": [
    {
     "name": "stdout",
     "output_type": "stream",
     "text": [
      "    Position\n",
      "0   0.208681\n",
      "1   0.155674\n",
      "2   0.184904\n",
      "3   0.268955\n",
      "4   0.100944\n",
      "5   0.124314\n",
      "6   0.234150\n",
      "7   0.265171\n",
      "8   0.127341\n",
      "0   5.586810\n",
      "1   5.056739\n",
      "2   5.349035\n",
      "3   6.189552\n",
      "4   4.509438\n",
      "5   4.743138\n",
      "6   5.841498\n",
      "7   6.151706\n",
      "8   4.773413\n",
      "9   5.650187\n",
      "10  6.282644\n",
      "11  4.918404\n",
      "12  4.870656\n",
      "13  4.716754\n",
      "14  4.939395\n",
      "15  6.457248\n",
      "16  6.123366\n",
      "17  4.843882\n",
      "18  6.132449\n",
      "19  5.048147\n",
      "20  5.363408\n",
      "..       ...\n",
      "19  3.748147\n",
      "20  4.063408\n",
      "21  5.080060\n",
      "22  4.835299\n",
      "23  3.872224\n",
      "24  3.550821\n",
      "25  3.945664\n",
      "26  3.211377\n",
      "27  3.704853\n",
      "28  4.791325\n",
      "0   1.260767\n",
      "1   0.889717\n",
      "2   1.094325\n",
      "3   1.682687\n",
      "4   0.506606\n",
      "5   0.670197\n",
      "6   1.439049\n",
      "7   1.656194\n",
      "8   0.691389\n",
      "9   1.305131\n",
      "10  1.747851\n",
      "11  0.792883\n",
      "12  0.759460\n",
      "13  0.651728\n",
      "14  0.807576\n",
      "15  1.870073\n",
      "16  1.636356\n",
      "17  0.740717\n",
      "18  1.642715\n",
      "19  0.883703\n",
      "\n",
      "[100 rows x 1 columns]\n"
     ]
    }
   ],
   "source": [
    "frames = (gkr,dfr,mdr,stk,)\n",
    "result = pd.concat(frames)\n",
    "print(result)"
   ]
  },
  {
   "cell_type": "markdown",
   "metadata": {},
   "source": [
    "The next variable I would like to look at is the number of goals scored per game by each player. As with tackling, the research here is not surprising.\n",
    "\n",
    "1) Goalkeeprs are in the business of preventing goals not scoring them, 0\n",
    "\n",
    "2) Defenders primary function is to prevent the other teams players from scoring but they do from time to time get on the score sheet, particularly the big centrebacks from set pieces .15 per game\n",
    "\n",
    "3) Midfielders being the all rounders that they are do have a habit of getting forwardd to assist their strikers and this pays off for them, 0.55 per game.\n",
    "\n",
    "4) Strikers as expected top the list here as it is their job to put the pall in the net 0.8 per game.\n",
    "\n",
    "When adding this column to my data set I will weight the data accordingly knowing not all players in each position will score the exact amount of goals. Lets assume .05 of a difference either side of the averages mentioned."
   ]
  },
  {
   "cell_type": "code",
   "execution_count": null,
   "metadata": {},
   "outputs": [],
   "source": []
  },
  {
   "cell_type": "markdown",
   "metadata": {},
   "source": [
    "The last variable I would like to look at is the number of kilometres covered by these players in a match. After reserching online I have found out the following:\n",
    "\n",
    "1) Golakeepers as expected cover the least amount of ground 5.5km on average per game.\n",
    "\n",
    "2) Defenders fall into two groups, fullbacks and centrebacks. The ground covered by both is different as fullbacks tend to cover more ground by attacking up the wings where as the centre backs tend to sit back and mind the house. For this project we will take an average of 10km per game.\n",
    "\n",
    "3) Midfielders are the real workhorses in the game and cover an average of 11.5km per game.\n",
    "\n",
    "4) Strikers tend to wait up front and conserve their energy until they get the ball and so they average about 9km per game.\n",
    "\n",
    "When adding this column to my data set I will weight the data accordingly knowing not all players in each position will cover the exact same ground. Lets assume 1 kilometre of a difference either side of the averages mentioned above."
   ]
  },
  {
   "cell_type": "code",
   "execution_count": 15,
   "metadata": {},
   "outputs": [
    {
     "ename": "AttributeError",
     "evalue": "'DataFrame' object has no attribute 'map'",
     "output_type": "error",
     "traceback": [
      "\u001b[1;31m---------------------------------------------------------------------------\u001b[0m",
      "\u001b[1;31mAttributeError\u001b[0m                            Traceback (most recent call last)",
      "\u001b[1;32m<ipython-input-15-30a1a521cf91>\u001b[0m in \u001b[0;36m<module>\u001b[1;34m()\u001b[0m\n\u001b[0;32m      1\u001b[0m \u001b[0mnp\u001b[0m\u001b[1;33m.\u001b[0m\u001b[0mrandom\u001b[0m\u001b[1;33m.\u001b[0m\u001b[0mseed\u001b[0m\u001b[1;33m(\u001b[0m\u001b[1;36m100\u001b[0m\u001b[1;33m)\u001b[0m\u001b[1;33m\u001b[0m\u001b[0m\n\u001b[1;32m----> 2\u001b[1;33m \u001b[0mdf\u001b[0m\u001b[1;33m[\u001b[0m\u001b[1;34m\"kms_ran\"\u001b[0m\u001b[1;33m]\u001b[0m \u001b[1;33m=\u001b[0m \u001b[0mdf\u001b[0m\u001b[1;33m.\u001b[0m\u001b[0mmap\u001b[0m\u001b[1;33m(\u001b[0m\u001b[1;33m{\u001b[0m\u001b[1;34m\"Goalkeeper\"\u001b[0m\u001b[1;33m:\u001b[0m\u001b[0mnp\u001b[0m\u001b[1;33m.\u001b[0m\u001b[0mrandom\u001b[0m\u001b[1;33m.\u001b[0m\u001b[0mrandint\u001b[0m\u001b[1;33m(\u001b[0m\u001b[1;36m4\u001b[0m\u001b[1;33m,\u001b[0m\u001b[1;36m11\u001b[0m\u001b[1;33m,\u001b[0m\u001b[1;36m100\u001b[0m\u001b[1;33m)\u001b[0m\u001b[1;33m,\u001b[0m \u001b[1;34m\"Defender\"\u001b[0m\u001b[1;33m:\u001b[0m \u001b[0mnp\u001b[0m\u001b[1;33m.\u001b[0m\u001b[0mrandom\u001b[0m\u001b[1;33m.\u001b[0m\u001b[0mrandint\u001b[0m\u001b[1;33m(\u001b[0m\u001b[1;36m4\u001b[0m\u001b[1;33m,\u001b[0m\u001b[1;36m11\u001b[0m\u001b[1;33m,\u001b[0m\u001b[1;36m100\u001b[0m\u001b[1;33m)\u001b[0m\u001b[1;33m}\u001b[0m\u001b[1;33m)\u001b[0m\u001b[1;33m\u001b[0m\u001b[0m\n\u001b[0m\u001b[0;32m      3\u001b[0m \u001b[0mdf\u001b[0m\u001b[1;33m.\u001b[0m\u001b[0mhead\u001b[0m\u001b[1;33m(\u001b[0m\u001b[1;36m10\u001b[0m\u001b[1;33m)\u001b[0m\u001b[1;33m\u001b[0m\u001b[0m\n",
      "\u001b[1;32m~\\AppData\\Local\\Continuum\\anaconda3\\lib\\site-packages\\pandas\\core\\generic.py\u001b[0m in \u001b[0;36m__getattr__\u001b[1;34m(self, name)\u001b[0m\n\u001b[0;32m   4370\u001b[0m             \u001b[1;32mif\u001b[0m \u001b[0mself\u001b[0m\u001b[1;33m.\u001b[0m\u001b[0m_info_axis\u001b[0m\u001b[1;33m.\u001b[0m\u001b[0m_can_hold_identifiers_and_holds_name\u001b[0m\u001b[1;33m(\u001b[0m\u001b[0mname\u001b[0m\u001b[1;33m)\u001b[0m\u001b[1;33m:\u001b[0m\u001b[1;33m\u001b[0m\u001b[0m\n\u001b[0;32m   4371\u001b[0m                 \u001b[1;32mreturn\u001b[0m \u001b[0mself\u001b[0m\u001b[1;33m[\u001b[0m\u001b[0mname\u001b[0m\u001b[1;33m]\u001b[0m\u001b[1;33m\u001b[0m\u001b[0m\n\u001b[1;32m-> 4372\u001b[1;33m             \u001b[1;32mreturn\u001b[0m \u001b[0mobject\u001b[0m\u001b[1;33m.\u001b[0m\u001b[0m__getattribute__\u001b[0m\u001b[1;33m(\u001b[0m\u001b[0mself\u001b[0m\u001b[1;33m,\u001b[0m \u001b[0mname\u001b[0m\u001b[1;33m)\u001b[0m\u001b[1;33m\u001b[0m\u001b[0m\n\u001b[0m\u001b[0;32m   4373\u001b[0m \u001b[1;33m\u001b[0m\u001b[0m\n\u001b[0;32m   4374\u001b[0m     \u001b[1;32mdef\u001b[0m \u001b[0m__setattr__\u001b[0m\u001b[1;33m(\u001b[0m\u001b[0mself\u001b[0m\u001b[1;33m,\u001b[0m \u001b[0mname\u001b[0m\u001b[1;33m,\u001b[0m \u001b[0mvalue\u001b[0m\u001b[1;33m)\u001b[0m\u001b[1;33m:\u001b[0m\u001b[1;33m\u001b[0m\u001b[0m\n",
      "\u001b[1;31mAttributeError\u001b[0m: 'DataFrame' object has no attribute 'map'"
     ]
    }
   ],
   "source": [
    "np.random.seed(100)\n",
    "df[\"kms_ran\"] = df.map({\"Goalkeeper\":np.random.randint(4,11,100), \"Defender\": np.random.randint(4,11,100)})\n",
    "df.head(10)"
   ]
  },
  {
   "cell_type": "code",
   "execution_count": 101,
   "metadata": {},
   "outputs": [
    {
     "data": {
      "text/plain": [
       "0.02"
      ]
     },
     "execution_count": 101,
     "metadata": {},
     "output_type": "execute_result"
    }
   ],
   "source": [
    " round(random.uniform(0.01, 0.03),2)"
   ]
  },
  {
   "cell_type": "code",
   "execution_count": null,
   "metadata": {},
   "outputs": [],
   "source": []
  }
 ],
 "metadata": {
  "kernelspec": {
   "display_name": "Python 3",
   "language": "python",
   "name": "python3"
  },
  "language_info": {
   "codemirror_mode": {
    "name": "ipython",
    "version": 3
   },
   "file_extension": ".py",
   "mimetype": "text/x-python",
   "name": "python",
   "nbconvert_exporter": "python",
   "pygments_lexer": "ipython3",
   "version": "3.6.5"
  }
 },
 "nbformat": 4,
 "nbformat_minor": 2
}
