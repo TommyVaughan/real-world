{
 "cells": [
  {
   "cell_type": "markdown",
   "metadata": {},
   "source": [
    "# Synthesising a Real World Phenomenon"
   ]
  },
  {
   "cell_type": "markdown",
   "metadata": {},
   "source": [
    "In this project I plan to:\n",
    "\n",
    "1) Choose a real world phenonenon that can be measured and fioor which I can collect at least 100 data points across at least four variables.\n",
    "\n",
    "2) Investigate the types of variables involved, their likely distributions, and their relationships with each other.\n",
    "\n",
    "3) Synthesise a data set as closely matching their properties as possible."
   ]
  },
  {
   "cell_type": "markdown",
   "metadata": {},
   "source": [
    "## The Python Libraries to be used\n",
    "\n",
    "Numpy is the fundamental package for scientific computing with Python. Besides it's scientific uses it can also be used as an efficient multi-dimensional container of generic data.\n",
    "\n",
    "Pandas is a package providing fast, flexible and expressive data structures designed to make working with data both easy and initutive.\n",
    "\n",
    "Matplotlib is a Python 2D plotting library which produces publication quality figures in a variety of hardcopy formats and interactive environments across platforms.\n",
    "\n",
    "Seaborn is a Python data visualizition library based on Matplotlib. It provides a high-level interface for drawing attractive and informative statistical graphics."
   ]
  },
  {
   "cell_type": "code",
   "execution_count": 65,
   "metadata": {},
   "outputs": [],
   "source": [
    "# Upload the Python packages I plan on using\n",
    "\n",
    "import pandas as pd\n",
    "from pandas import DataFrame\n",
    "import seaborn as sns\n",
    "import numpy as np\n",
    "import matplotlib.pyplot as plt\n",
    "import random\n",
    "%matplotlib inline "
   ]
  },
  {
   "cell_type": "markdown",
   "metadata": {},
   "source": [
    "## Data for this project\n",
    "\n",
    "I have decided to look at a list of 100 footballers and how variables such as the number of hours they train and their age affects their performance. For measuring ther performance I will look at varibles like number of kilometres covered in a match, tackles made and goals scored. I will also factor in their position on the pitch as this will further impact the other variables.\n",
    "\n",
    "To start I am creating a dataframe with 100 footballers including their ages being randomly selected between 18 and 35 years of age."
   ]
  },
  {
   "cell_type": "code",
   "execution_count": 155,
   "metadata": {},
   "outputs": [
    {
     "data": {
      "text/html": [
       "<div>\n",
       "<style scoped>\n",
       "    .dataframe tbody tr th:only-of-type {\n",
       "        vertical-align: middle;\n",
       "    }\n",
       "\n",
       "    .dataframe tbody tr th {\n",
       "        vertical-align: top;\n",
       "    }\n",
       "\n",
       "    .dataframe thead th {\n",
       "        text-align: right;\n",
       "    }\n",
       "</style>\n",
       "<table border=\"1\" class=\"dataframe\">\n",
       "  <thead>\n",
       "    <tr style=\"text-align: right;\">\n",
       "      <th></th>\n",
       "      <th>Age</th>\n",
       "    </tr>\n",
       "    <tr>\n",
       "      <th>Footballer</th>\n",
       "      <th></th>\n",
       "    </tr>\n",
       "  </thead>\n",
       "  <tbody>\n",
       "    <tr>\n",
       "      <th>1</th>\n",
       "      <td>26</td>\n",
       "    </tr>\n",
       "    <tr>\n",
       "      <th>2</th>\n",
       "      <td>27</td>\n",
       "    </tr>\n",
       "    <tr>\n",
       "      <th>3</th>\n",
       "      <td>32</td>\n",
       "    </tr>\n",
       "    <tr>\n",
       "      <th>4</th>\n",
       "      <td>23</td>\n",
       "    </tr>\n",
       "    <tr>\n",
       "      <th>5</th>\n",
       "      <td>24</td>\n",
       "    </tr>\n",
       "    <tr>\n",
       "      <th>6</th>\n",
       "      <td>18</td>\n",
       "    </tr>\n",
       "    <tr>\n",
       "      <th>7</th>\n",
       "      <td>22</td>\n",
       "    </tr>\n",
       "    <tr>\n",
       "      <th>8</th>\n",
       "      <td>20</td>\n",
       "    </tr>\n",
       "    <tr>\n",
       "      <th>9</th>\n",
       "      <td>18</td>\n",
       "    </tr>\n",
       "    <tr>\n",
       "      <th>10</th>\n",
       "      <td>28</td>\n",
       "    </tr>\n",
       "  </tbody>\n",
       "</table>\n",
       "</div>"
      ],
      "text/plain": [
       "            Age\n",
       "Footballer     \n",
       "1            26\n",
       "2            27\n",
       "3            32\n",
       "4            23\n",
       "5            24\n",
       "6            18\n",
       "7            22\n",
       "8            20\n",
       "9            18\n",
       "10           28"
      ]
     },
     "execution_count": 155,
     "metadata": {},
     "output_type": "execute_result"
    }
   ],
   "source": [
    "df = pd.DataFrame({\"Footballer\":np.arange(1,101,1), \"Age\": np.random.randint(18,36,100)}).set_index(\"Footballer\")\n",
    "df.head(10)"
   ]
  },
  {
   "cell_type": "code",
   "execution_count": 156,
   "metadata": {},
   "outputs": [],
   "source": [
    "allowed_position =(['Goalkeeper', 'Defender', 'Midfielder', \"Striker\",])\n",
    "my_position = [np.random.choice(allowed_position) for i in range(100)]     "
   ]
  },
  {
   "cell_type": "markdown",
   "metadata": {},
   "source": [
    "In football the lineout is 1 goalkeeper, and usually 4 defenders, 4 midfielders and 2 strikers so I will weight the data for the positions accordingly."
   ]
  },
  {
   "cell_type": "code",
   "execution_count": 165,
   "metadata": {},
   "outputs": [
    {
     "name": "stdout",
     "output_type": "stream",
     "text": [
      "['Midfielder' 'Defender' 'Defender' 'Striker' 'Goalkeeper' 'Defender'\n",
      " 'Midfielder' 'Striker' 'Defender' 'Midfielder' 'Striker' 'Defender'\n",
      " 'Defender' 'Defender' 'Defender' 'Striker' 'Striker' 'Defender' 'Striker'\n",
      " 'Defender' 'Defender' 'Striker' 'Striker' 'Defender' 'Defender'\n",
      " 'Defender' 'Goalkeeper' 'Defender' 'Midfielder' 'Goalkeeper' 'Midfielder'\n",
      " 'Midfielder' 'Defender' 'Defender' 'Goalkeeper' 'Striker' 'Striker'\n",
      " 'Goalkeeper' 'Striker' 'Midfielder' 'Midfielder' 'Midfielder'\n",
      " 'Midfielder' 'Goalkeeper' 'Defender' 'Midfielder' 'Midfielder' 'Defender'\n",
      " 'Defender' 'Striker' 'Striker' 'Striker' 'Defender' 'Midfielder'\n",
      " 'Defender' 'Defender' 'Defender' 'Defender' 'Goalkeeper' 'Midfielder'\n",
      " 'Defender' 'Midfielder' 'Midfielder' 'Defender' 'Striker' 'Striker'\n",
      " 'Midfielder' 'Defender' 'Defender' 'Defender' 'Defender' 'Defender'\n",
      " 'Defender' 'Striker' 'Striker' 'Midfielder' 'Midfielder' 'Defender'\n",
      " 'Goalkeeper' 'Midfielder' 'Midfielder' 'Goalkeeper' 'Midfielder'\n",
      " 'Striker' 'Defender' 'Defender' 'Striker' 'Midfielder' 'Defender'\n",
      " 'Midfielder' 'Midfielder' 'Defender' 'Defender' 'Defender' 'Midfielder'\n",
      " 'Midfielder' 'Defender' 'Midfielder' 'Defender' 'Midfielder']\n"
     ]
    }
   ],
   "source": [
    "np.random.seed(100)    # seeding the data to get the same data\n",
    "position = np.random.choice(allowed_position, 100, p=[0.1, 0.35, 0.35, 0.2]) \n",
    "print(position)"
   ]
  },
  {
   "cell_type": "markdown",
   "metadata": {},
   "source": [
    "Now I would like to expand the dataframe by adding a column of the weighted positions."
   ]
  },
  {
   "cell_type": "code",
   "execution_count": 169,
   "metadata": {},
   "outputs": [
    {
     "data": {
      "text/html": [
       "<div>\n",
       "<style scoped>\n",
       "    .dataframe tbody tr th:only-of-type {\n",
       "        vertical-align: middle;\n",
       "    }\n",
       "\n",
       "    .dataframe tbody tr th {\n",
       "        vertical-align: top;\n",
       "    }\n",
       "\n",
       "    .dataframe thead th {\n",
       "        text-align: right;\n",
       "    }\n",
       "</style>\n",
       "<table border=\"1\" class=\"dataframe\">\n",
       "  <thead>\n",
       "    <tr style=\"text-align: right;\">\n",
       "      <th></th>\n",
       "      <th>Age</th>\n",
       "      <th>Position</th>\n",
       "      <th>hours</th>\n",
       "    </tr>\n",
       "    <tr>\n",
       "      <th>Footballer</th>\n",
       "      <th></th>\n",
       "      <th></th>\n",
       "      <th></th>\n",
       "    </tr>\n",
       "  </thead>\n",
       "  <tbody>\n",
       "    <tr>\n",
       "      <th>1</th>\n",
       "      <td>26</td>\n",
       "      <td>Midfielder</td>\n",
       "      <td>9</td>\n",
       "    </tr>\n",
       "    <tr>\n",
       "      <th>2</th>\n",
       "      <td>27</td>\n",
       "      <td>Defender</td>\n",
       "      <td>8</td>\n",
       "    </tr>\n",
       "    <tr>\n",
       "      <th>3</th>\n",
       "      <td>32</td>\n",
       "      <td>Defender</td>\n",
       "      <td>8</td>\n",
       "    </tr>\n",
       "    <tr>\n",
       "      <th>4</th>\n",
       "      <td>23</td>\n",
       "      <td>Striker</td>\n",
       "      <td>7</td>\n",
       "    </tr>\n",
       "    <tr>\n",
       "      <th>5</th>\n",
       "      <td>24</td>\n",
       "      <td>Goalkeeper</td>\n",
       "      <td>7</td>\n",
       "    </tr>\n",
       "    <tr>\n",
       "      <th>6</th>\n",
       "      <td>18</td>\n",
       "      <td>Defender</td>\n",
       "      <td>5</td>\n",
       "    </tr>\n",
       "    <tr>\n",
       "      <th>7</th>\n",
       "      <td>22</td>\n",
       "      <td>Midfielder</td>\n",
       "      <td>4</td>\n",
       "    </tr>\n",
       "    <tr>\n",
       "      <th>8</th>\n",
       "      <td>20</td>\n",
       "      <td>Striker</td>\n",
       "      <td>5</td>\n",
       "    </tr>\n",
       "    <tr>\n",
       "      <th>9</th>\n",
       "      <td>18</td>\n",
       "      <td>Defender</td>\n",
       "      <td>6</td>\n",
       "    </tr>\n",
       "    <tr>\n",
       "      <th>10</th>\n",
       "      <td>28</td>\n",
       "      <td>Midfielder</td>\n",
       "      <td>6</td>\n",
       "    </tr>\n",
       "  </tbody>\n",
       "</table>\n",
       "</div>"
      ],
      "text/plain": [
       "            Age    Position  hours\n",
       "Footballer                        \n",
       "1            26  Midfielder      9\n",
       "2            27    Defender      8\n",
       "3            32    Defender      8\n",
       "4            23     Striker      7\n",
       "5            24  Goalkeeper      7\n",
       "6            18    Defender      5\n",
       "7            22  Midfielder      4\n",
       "8            20     Striker      5\n",
       "9            18    Defender      6\n",
       "10           28  Midfielder      6"
      ]
     },
     "execution_count": 169,
     "metadata": {},
     "output_type": "execute_result"
    }
   ],
   "source": [
    "np.random.seed(100)\n",
    "df[\"Position\"] = np.random.choice(allowed_position, 100, p=[0.1, 0.35, 0.35, 0.2]) \n",
    "df.head(10)"
   ]
  },
  {
   "cell_type": "markdown",
   "metadata": {},
   "source": [
    "Now I would like to add another column to the dataset where the numbers of hours each player trains is randomly selected between 4 and 10 hours per week."
   ]
  },
  {
   "cell_type": "code",
   "execution_count": 170,
   "metadata": {},
   "outputs": [
    {
     "name": "stdout",
     "output_type": "stream",
     "text": [
      "[ 4  4  7  4  6 10  8  6  9  6  6 10  6  5  4  4  8  7  8  6  4  7  5  9\n",
      " 10  6  7  8  8  5  9  9  7  8  8  7  7  7  5  5  9 10  7  4  6  5  5 10\n",
      "  7  6  9  7  4 10  5 10  4  9 10  8  6  4  4  6  9  6  5  4  9  6 10  5\n",
      "  9  8  6  4  7  7  7  9 10  4  9  5  8  6  7 10  7  8  6 10  8  7  5  4\n",
      "  8  7  8  9]\n"
     ]
    }
   ],
   "source": [
    "np.random.seed(100)\n",
    "hours = np.random.randint(4,11,100)\n",
    "print(hours)"
   ]
  },
  {
   "cell_type": "code",
   "execution_count": 172,
   "metadata": {},
   "outputs": [
    {
     "data": {
      "text/html": [
       "<div>\n",
       "<style scoped>\n",
       "    .dataframe tbody tr th:only-of-type {\n",
       "        vertical-align: middle;\n",
       "    }\n",
       "\n",
       "    .dataframe tbody tr th {\n",
       "        vertical-align: top;\n",
       "    }\n",
       "\n",
       "    .dataframe thead th {\n",
       "        text-align: right;\n",
       "    }\n",
       "</style>\n",
       "<table border=\"1\" class=\"dataframe\">\n",
       "  <thead>\n",
       "    <tr style=\"text-align: right;\">\n",
       "      <th></th>\n",
       "      <th>Age</th>\n",
       "      <th>Position</th>\n",
       "      <th>hours</th>\n",
       "    </tr>\n",
       "    <tr>\n",
       "      <th>Footballer</th>\n",
       "      <th></th>\n",
       "      <th></th>\n",
       "      <th></th>\n",
       "    </tr>\n",
       "  </thead>\n",
       "  <tbody>\n",
       "    <tr>\n",
       "      <th>1</th>\n",
       "      <td>26</td>\n",
       "      <td>Midfielder</td>\n",
       "      <td>6</td>\n",
       "    </tr>\n",
       "    <tr>\n",
       "      <th>2</th>\n",
       "      <td>27</td>\n",
       "      <td>Defender</td>\n",
       "      <td>6</td>\n",
       "    </tr>\n",
       "    <tr>\n",
       "      <th>3</th>\n",
       "      <td>32</td>\n",
       "      <td>Defender</td>\n",
       "      <td>10</td>\n",
       "    </tr>\n",
       "    <tr>\n",
       "      <th>4</th>\n",
       "      <td>23</td>\n",
       "      <td>Striker</td>\n",
       "      <td>6</td>\n",
       "    </tr>\n",
       "    <tr>\n",
       "      <th>5</th>\n",
       "      <td>24</td>\n",
       "      <td>Goalkeeper</td>\n",
       "      <td>5</td>\n",
       "    </tr>\n",
       "    <tr>\n",
       "      <th>6</th>\n",
       "      <td>18</td>\n",
       "      <td>Defender</td>\n",
       "      <td>6</td>\n",
       "    </tr>\n",
       "    <tr>\n",
       "      <th>7</th>\n",
       "      <td>22</td>\n",
       "      <td>Midfielder</td>\n",
       "      <td>5</td>\n",
       "    </tr>\n",
       "    <tr>\n",
       "      <th>8</th>\n",
       "      <td>20</td>\n",
       "      <td>Striker</td>\n",
       "      <td>9</td>\n",
       "    </tr>\n",
       "    <tr>\n",
       "      <th>9</th>\n",
       "      <td>18</td>\n",
       "      <td>Defender</td>\n",
       "      <td>6</td>\n",
       "    </tr>\n",
       "    <tr>\n",
       "      <th>10</th>\n",
       "      <td>28</td>\n",
       "      <td>Midfielder</td>\n",
       "      <td>6</td>\n",
       "    </tr>\n",
       "  </tbody>\n",
       "</table>\n",
       "</div>"
      ],
      "text/plain": [
       "            Age    Position  hours\n",
       "Footballer                        \n",
       "1            26  Midfielder      6\n",
       "2            27    Defender      6\n",
       "3            32    Defender     10\n",
       "4            23     Striker      6\n",
       "5            24  Goalkeeper      5\n",
       "6            18    Defender      6\n",
       "7            22  Midfielder      5\n",
       "8            20     Striker      9\n",
       "9            18    Defender      6\n",
       "10           28  Midfielder      6"
      ]
     },
     "execution_count": 172,
     "metadata": {},
     "output_type": "execute_result"
    }
   ],
   "source": [
    "df[\"hours\"] = np.random.randint(4,11,100)\n",
    "df.head(10)"
   ]
  },
  {
   "cell_type": "markdown",
   "metadata": {},
   "source": [
    "I would now like to have a look at the number of tackles each player makes in a game. From my research I have found:\n",
    "\n",
    "1) Goalkeepers as expected rarely make tackles as saves is the name of thier game but they do occassionally come from goal to make a quick slide outside the box 0.2 Tackels per game.\n",
    "\n",
    "2) Defenders bread and butter is tackling, it's how they earn their crust and no surprises that they tend to make more tackels than any other position at 5.5 per game.\n",
    "\n",
    "3) Midfielders are the engine of a team and wile the cover more ground than anybody, they don't put in as many tackels as their defensive counterparts 4.2 per game.\n",
    "\n",
    "4) Strikers are the poster boys of any team and they leave  the dirty business of tackeling to their team mates. 1.2 per game\n",
    "\n",
    "When adding this column to my data set I will weight the data accordingly knowing not all players in each position will put in the same number of tackles. Lets assume 1 of a difference either side of the averages mentioned."
   ]
  },
  {
   "cell_type": "code",
   "execution_count": null,
   "metadata": {},
   "outputs": [],
   "source": []
  },
  {
   "cell_type": "markdown",
   "metadata": {},
   "source": [
    "The next variable I would like to look at is the number of goals scored per game by each player. As with tackling, the research here is not surprising.\n",
    "\n",
    "1) Goalkeeprs are in the business of preventing goals not scoring them, 0\n",
    "\n",
    "2) Defenders primary function is to prevent the other teams players from scoring but they do from time to time get on the score sheet, particularly the big centrebacks from set pieces .15 per game\n",
    "\n",
    "3) Midfielders being the all rounders that they are do have a habit of getting forwardd to assist their strikers and this pays off for them, 0.55 per game.\n",
    "\n",
    "4) Strikers as expected top the list here as it is their job to put the pall in the net 0.8 per game.\n",
    "\n",
    "When adding this column to my data set I will weight the data accordingly knowing not all players in each position will score the exact amount of goals. Lets assume .05 of a difference either side of the averages mentioned."
   ]
  },
  {
   "cell_type": "code",
   "execution_count": null,
   "metadata": {},
   "outputs": [],
   "source": []
  },
  {
   "cell_type": "markdown",
   "metadata": {},
   "source": [
    "The last variable I would like to look at is the number of kilometres covered by these players in a match. After reserching online I have found out the following:\n",
    "\n",
    "1) Golakeepers as expected cover the least amount of ground 5.5km on average per game.\n",
    "\n",
    "2) Defenders fall into two groups, fullbacks and centrebacks. The ground covered by both is different as fullbacks tend to cover more ground by attacking up the wings where as the centre backs tend to sit back and mind the house. For this project we will take an average of 10km per game.\n",
    "\n",
    "3) Midfielders are the real workhorses in the game and cover an average of 11.5km per game.\n",
    "\n",
    "4) Strikers tend to wait up front and conserve their energy until they get the ball and so they average about 9km per game.\n",
    "\n",
    "When adding this column to my data set I will weight the data accordingly knowing not all players in each position will cover the exact same ground. Lets assume 1 kilometre of a difference either side of the averages mentioned above."
   ]
  },
  {
   "cell_type": "code",
   "execution_count": 182,
   "metadata": {},
   "outputs": [
    {
     "ename": "NameError",
     "evalue": "name 'Position' is not defined",
     "output_type": "error",
     "traceback": [
      "\u001b[1;31m---------------------------------------------------------------------------\u001b[0m",
      "\u001b[1;31mNameError\u001b[0m                                 Traceback (most recent call last)",
      "\u001b[1;32m<ipython-input-182-dcfd94a11b2f>\u001b[0m in \u001b[0;36m<module>\u001b[1;34m()\u001b[0m\n\u001b[0;32m      1\u001b[0m \u001b[0mdata\u001b[0m \u001b[1;33m=\u001b[0m \u001b[1;34m\"Position\"\u001b[0m\u001b[1;33m\u001b[0m\u001b[0m\n\u001b[1;32m----> 2\u001b[1;33m \u001b[0mprint\u001b[0m\u001b[1;33m(\u001b[0m\u001b[0mPosition\u001b[0m\u001b[1;33m)\u001b[0m\u001b[1;33m\u001b[0m\u001b[0m\n\u001b[0m",
      "\u001b[1;31mNameError\u001b[0m: name 'Position' is not defined"
     ]
    }
   ],
   "source": [
    "data = \"Position\"\n",
    "print(Position)"
   ]
  },
  {
   "cell_type": "code",
   "execution_count": null,
   "metadata": {},
   "outputs": [],
   "source": [
    "np.random.seed(100)\n",
    "df[\"kms_ran\"] = \n",
    "df.head(10)"
   ]
  },
  {
   "cell_type": "code",
   "execution_count": 64,
   "metadata": {},
   "outputs": [
    {
     "data": {
      "text/html": [
       "<div>\n",
       "<style scoped>\n",
       "    .dataframe tbody tr th:only-of-type {\n",
       "        vertical-align: middle;\n",
       "    }\n",
       "\n",
       "    .dataframe tbody tr th {\n",
       "        vertical-align: top;\n",
       "    }\n",
       "\n",
       "    .dataframe thead th {\n",
       "        text-align: right;\n",
       "    }\n",
       "</style>\n",
       "<table border=\"1\" class=\"dataframe\">\n",
       "  <thead>\n",
       "    <tr style=\"text-align: right;\">\n",
       "      <th></th>\n",
       "      <th>Footballer</th>\n",
       "      <th>Position</th>\n",
       "      <th>Age</th>\n",
       "      <th>Kms_ran</th>\n",
       "      <th>Tackles_made</th>\n",
       "      <th>Goals_scored</th>\n",
       "    </tr>\n",
       "  </thead>\n",
       "  <tbody>\n",
       "    <tr>\n",
       "      <th>0</th>\n",
       "      <td>1</td>\n",
       "      <td>Goalkeeper</td>\n",
       "      <td>NaN</td>\n",
       "      <td>NaN</td>\n",
       "      <td>NaN</td>\n",
       "      <td>NaN</td>\n",
       "    </tr>\n",
       "    <tr>\n",
       "      <th>1</th>\n",
       "      <td>2</td>\n",
       "      <td>Defender</td>\n",
       "      <td>NaN</td>\n",
       "      <td>NaN</td>\n",
       "      <td>NaN</td>\n",
       "      <td>NaN</td>\n",
       "    </tr>\n",
       "    <tr>\n",
       "      <th>2</th>\n",
       "      <td>3</td>\n",
       "      <td>Midfielder</td>\n",
       "      <td>NaN</td>\n",
       "      <td>NaN</td>\n",
       "      <td>NaN</td>\n",
       "      <td>NaN</td>\n",
       "    </tr>\n",
       "    <tr>\n",
       "      <th>3</th>\n",
       "      <td>4</td>\n",
       "      <td>Striker</td>\n",
       "      <td>NaN</td>\n",
       "      <td>NaN</td>\n",
       "      <td>NaN</td>\n",
       "      <td>NaN</td>\n",
       "    </tr>\n",
       "  </tbody>\n",
       "</table>\n",
       "</div>"
      ],
      "text/plain": [
       "   Footballer    Position  Age Kms_ran Tackles_made Goals_scored\n",
       "0           1  Goalkeeper  NaN     NaN          NaN          NaN\n",
       "1           2    Defender  NaN     NaN          NaN          NaN\n",
       "2           3  Midfielder  NaN     NaN          NaN          NaN\n",
       "3           4     Striker  NaN     NaN          NaN          NaN"
      ]
     },
     "execution_count": 64,
     "metadata": {},
     "output_type": "execute_result"
    }
   ],
   "source": [
    "df = pd.DataFrame({\"Footballer\":[1,2,3,4], \"Position\":[\"Goalkeeper\",\"Defender\",\"Midfielder\",\"Striker\"]}, columns=[\"Footballer\", \"Position\", \"Age\", \"Kms_ran\", \"Tackles_made\",\"Goals_scored\"])"
   ]
  },
  {
   "cell_type": "code",
   "execution_count": 193,
   "metadata": {},
   "outputs": [
    {
     "name": "stdout",
     "output_type": "stream",
     "text": [
      "[21.50565964 67.73325279 83.16059644 64.20812356 99.45390329]\n"
     ]
    }
   ],
   "source": [
    "data = np.random.uniform(100,4,5)\n",
    "\n",
    "print(data)"
   ]
  },
  {
   "cell_type": "code",
   "execution_count": null,
   "metadata": {},
   "outputs": [],
   "source": []
  }
 ],
 "metadata": {
  "kernelspec": {
   "display_name": "Python 3",
   "language": "python",
   "name": "python3"
  },
  "language_info": {
   "codemirror_mode": {
    "name": "ipython",
    "version": 3
   },
   "file_extension": ".py",
   "mimetype": "text/x-python",
   "name": "python",
   "nbconvert_exporter": "python",
   "pygments_lexer": "ipython3",
   "version": "3.6.5"
  }
 },
 "nbformat": 4,
 "nbformat_minor": 2
}
